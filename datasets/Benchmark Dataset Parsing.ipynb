{
 "cells": [
  {
   "cell_type": "code",
   "execution_count": 1,
   "metadata": {},
   "outputs": [],
   "source": [
    "import pandas as pd\n",
    "import numpy as np\n",
    "import pickle\n",
    "import sys\n",
    "from sklearn.feature_extraction.text import TfidfVectorizer\n",
    "import nltk\n",
    "from nltk.stem.porter import *\n",
    "from nltk.corpus import stopwords\n",
    "import string\n",
    "import re\n",
    "# from vaderSentiment.vaderSentiment import SentimentIntensityAnalyzer as VS\n",
    "# from textstat.textstat import *\n",
    "from sklearn.linear_model import LogisticRegression\n",
    "from sklearn.feature_selection import SelectFromModel\n",
    "from sklearn.metrics import classification_report\n",
    "from sklearn.svm import LinearSVC\n",
    "import matplotlib.pyplot as plt\n",
    "import seaborn\n",
    "import ast\n",
    "%matplotlib inline"
   ]
  },
  {
   "cell_type": "code",
   "execution_count": 2,
   "metadata": {},
   "outputs": [],
   "source": [
    "def clean_text(text):\n",
    "    \n",
    "    text=str(text)\n",
    "    ## Remove puncuation\n",
    "    text = text.translate(string.punctuation)\n",
    "    \n",
    "    ## Convert words to lower case and split them\n",
    "    text = text.lower().split()\n",
    "    \n",
    "    ## Remove stop words\n",
    "    stops = set(stopwords.words(\"english\"))\n",
    "    text = [w for w in text if not w in stops and len(w) >= 3]\n",
    "    \n",
    "    text = \" \".join(text)\n",
    "    ## Clean the text\n",
    "    text = re.sub(r\"[^A-Za-z0-9^,!.\\/'+-=]\", \" \", text)\n",
    "    text = re.sub(r\"what's\", \"what is \", text)\n",
    "    text = re.sub(r\"\\'s\", \" \", text)\n",
    "    text = re.sub(r\"\\'ve\", \" have \", text)\n",
    "    text = re.sub(r\"n't\", \" not \", text)\n",
    "    text = re.sub(r\"i'm\", \"i am \", text)\n",
    "    text = re.sub(r\"\\'re\", \" are \", text)\n",
    "    text = re.sub(r\"\\'d\", \" would \", text)\n",
    "    text = re.sub(r\"\\'ll\", \" will \", text)\n",
    "    text = re.sub(r\",\", \" \", text)\n",
    "    text = re.sub(r\"\\.\", \" \", text)\n",
    "    text = re.sub(r\"!\", \" ! \", text)\n",
    "    text = re.sub(r\"\\/\", \" \", text)\n",
    "    text = re.sub(r\"\\^\", \" ^ \", text)\n",
    "    text = re.sub(r\"\\+\", \" + \", text)\n",
    "    text = re.sub(r\"\\-\", \" - \", text)\n",
    "    text = re.sub(r\"\\=\", \" = \", text)\n",
    "    text = re.sub(r\"'\", \" \", text)\n",
    "    text = re.sub(r\"(\\d+)(k)\", r\"\\g<1>000\", text)\n",
    "    text = re.sub(r\":\", \" : \", text)\n",
    "    text = re.sub(r\" e g \", \" eg \", text)\n",
    "    text = re.sub(r\" b g \", \" bg \", text)\n",
    "    text = re.sub(r\" u s \", \" american \", text)\n",
    "    text = re.sub(r\"\\0s\", \"0\", text)\n",
    "    text = re.sub(r\" 9 11 \", \"911\", text)\n",
    "    text = re.sub(r\"e - mail\", \"email\", text)\n",
    "    text = re.sub(r\"j k\", \"jk\", text)\n",
    "    text = re.sub(r\"\\s{2,}\", \" \", text)\n",
    "    \n",
    "    return text"
   ]
  },
  {
   "cell_type": "code",
   "execution_count": 3,
   "metadata": {},
   "outputs": [],
   "source": [
    "data = pd.read_csv(\"Original Datasets/A-Benchmark-Dataset-for-Learning-to-Intervene-in-Online-Hate-Speech-master/data/gab.csv\")"
   ]
  },
  {
   "cell_type": "code",
   "execution_count": 4,
   "metadata": {},
   "outputs": [
    {
     "data": {
      "text/html": [
       "<div>\n",
       "<style scoped>\n",
       "    .dataframe tbody tr th:only-of-type {\n",
       "        vertical-align: middle;\n",
       "    }\n",
       "\n",
       "    .dataframe tbody tr th {\n",
       "        vertical-align: top;\n",
       "    }\n",
       "\n",
       "    .dataframe thead th {\n",
       "        text-align: right;\n",
       "    }\n",
       "</style>\n",
       "<table border=\"1\" class=\"dataframe\">\n",
       "  <thead>\n",
       "    <tr style=\"text-align: right;\">\n",
       "      <th></th>\n",
       "      <th>id</th>\n",
       "      <th>text</th>\n",
       "      <th>hate_speech_idx</th>\n",
       "      <th>response</th>\n",
       "    </tr>\n",
       "  </thead>\n",
       "  <tbody>\n",
       "    <tr>\n",
       "      <th>0</th>\n",
       "      <td>1. 39869714\\n</td>\n",
       "      <td>1. i joined gab to remind myself how retarded ...</td>\n",
       "      <td>[1]</td>\n",
       "      <td>[\"Using words that insult one group while defe...</td>\n",
       "    </tr>\n",
       "    <tr>\n",
       "      <th>1</th>\n",
       "      <td>1. 39845588\\n2. \\t39848775\\n3. \\t\\t39911017\\n</td>\n",
       "      <td>1. This is what the left is really scared of. ...</td>\n",
       "      <td>[3]</td>\n",
       "      <td>['You can disagree with someones opinion witho...</td>\n",
       "    </tr>\n",
       "    <tr>\n",
       "      <th>2</th>\n",
       "      <td>1. 37485560\\n2. \\t37528625\\n</td>\n",
       "      <td>1. It makes you an asshole.\\n2. \\tGive it to a...</td>\n",
       "      <td>[2]</td>\n",
       "      <td>['Your argument is more rational if you leave ...</td>\n",
       "    </tr>\n",
       "    <tr>\n",
       "      <th>3</th>\n",
       "      <td>1. 39787626\\n2. \\t39794481\\n</td>\n",
       "      <td>1. So they manage to provide a whole lot of da...</td>\n",
       "      <td>[2]</td>\n",
       "      <td>[\"You shouldn't generalize a specific group or...</td>\n",
       "    </tr>\n",
       "    <tr>\n",
       "      <th>4</th>\n",
       "      <td>1. 37957930\\n2. \\t39953348\\n3. \\t\\t39965219\\n</td>\n",
       "      <td>1. Hi there, i,m Keith, i hope you are doing w...</td>\n",
       "      <td>[3]</td>\n",
       "      <td>['If someone is rude it is better to ignore th...</td>\n",
       "    </tr>\n",
       "  </tbody>\n",
       "</table>\n",
       "</div>"
      ],
      "text/plain": [
       "                                              id  \\\n",
       "0                                  1. 39869714\\n   \n",
       "1  1. 39845588\\n2. \\t39848775\\n3. \\t\\t39911017\\n   \n",
       "2                   1. 37485560\\n2. \\t37528625\\n   \n",
       "3                   1. 39787626\\n2. \\t39794481\\n   \n",
       "4  1. 37957930\\n2. \\t39953348\\n3. \\t\\t39965219\\n   \n",
       "\n",
       "                                                text hate_speech_idx  \\\n",
       "0  1. i joined gab to remind myself how retarded ...             [1]   \n",
       "1  1. This is what the left is really scared of. ...             [3]   \n",
       "2  1. It makes you an asshole.\\n2. \\tGive it to a...             [2]   \n",
       "3  1. So they manage to provide a whole lot of da...             [2]   \n",
       "4  1. Hi there, i,m Keith, i hope you are doing w...             [3]   \n",
       "\n",
       "                                            response  \n",
       "0  [\"Using words that insult one group while defe...  \n",
       "1  ['You can disagree with someones opinion witho...  \n",
       "2  ['Your argument is more rational if you leave ...  \n",
       "3  [\"You shouldn't generalize a specific group or...  \n",
       "4  ['If someone is rude it is better to ignore th...  "
      ]
     },
     "execution_count": 4,
     "metadata": {},
     "output_type": "execute_result"
    }
   ],
   "source": [
    "data.head(5)"
   ]
  },
  {
   "cell_type": "code",
   "execution_count": 21,
   "metadata": {},
   "outputs": [],
   "source": [
    "text_list =[]\n",
    "class_list =[]\n",
    "t = data['text'].values\n",
    "h = data['hate_speech_idx'].values"
   ]
  },
  {
   "cell_type": "code",
   "execution_count": 22,
   "metadata": {},
   "outputs": [],
   "source": [
    "for i in range(len(t)):\n",
    "    temp=t[i]\n",
    "    temp=temp.split('\\n')\n",
    "    temp = temp[:-1]\n",
    "    try:\n",
    "        x = ast.literal_eval(h[i])\n",
    "    except:\n",
    "        x = []\n",
    "    for j in range(len(temp)):\n",
    "        if (j+1) in x:\n",
    "            text_list.append(temp[j])\n",
    "            class_list.append(1)\n",
    "        else:\n",
    "            text_list.append(temp[j])\n",
    "            class_list.append(0)"
   ]
  },
  {
   "cell_type": "code",
   "execution_count": 23,
   "metadata": {},
   "outputs": [
    {
     "data": {
      "text/plain": [
       "33776"
      ]
     },
     "execution_count": 23,
     "metadata": {},
     "output_type": "execute_result"
    }
   ],
   "source": [
    "len(text_list)"
   ]
  },
  {
   "cell_type": "code",
   "execution_count": 24,
   "metadata": {},
   "outputs": [
    {
     "data": {
      "text/plain": [
       "33776"
      ]
     },
     "execution_count": 24,
     "metadata": {},
     "output_type": "execute_result"
    }
   ],
   "source": [
    "len(class_list)"
   ]
  },
  {
   "cell_type": "code",
   "execution_count": 25,
   "metadata": {},
   "outputs": [
    {
     "data": {
      "text/plain": [
       "[1, 0, 0, 1, 0, 1, 0, 1, 0, 0, 1, 1, 0, 0, 1, 0, 1, 1, 0, 1]"
      ]
     },
     "execution_count": 25,
     "metadata": {},
     "output_type": "execute_result"
    }
   ],
   "source": [
    "class_list[:20]"
   ]
  },
  {
   "cell_type": "code",
   "execution_count": 26,
   "metadata": {},
   "outputs": [
    {
     "data": {
      "text/plain": [
       "[\"1. i joined gab to remind myself how retarded jew haters are. You wouldn't be typing on your abacus without them you retard.\",\n",
       " '1. This is what the left is really scared of.    https://redd.it/9rfkts',\n",
       " '2. \\tThat literally looks like a monkey. Why are we supposed to pretend it’s a person bc it’s wearing a red hat? ',\n",
       " '3. \\t\\tDumb Cunt',\n",
       " '1. It makes you an asshole.',\n",
       " '2. \\tGive it to a  soldier who has defend it , then try to burn it . Show me what a badass you really are.  The flag is helpless to stop you or fight back . Completely unnecessary act , its proves nothing and accomplishes nothing. It only shows your a ignorant weak faggot  . Like kicking a puppy ,,,  it shows how weak and worthless you are ',\n",
       " '1. So they manage to provide a whole lot of data, except a critical little nugget.   Gay men are well over half the patients who present at STI clinics, and are probably the source of the emerging antibiotic-resistant pathogens.   https://www.dailymail.co.uk/health/article-6315871/One-young-person-England-told-STI-FOUR-MINUTES.html',\n",
       " \"2. \\tyup. i cant smoke in a bar because it's harmful to some faggot that's getting drunk, doing drugs & having an STD potluck w/ the boys later...... seems legit. \",\n",
       " '1. Hi there, i,m Keith, i hope you are doing well, i would be very honored to get to know you if you would be interested? @PugLife',\n",
       " '2. \\tFuck off',\n",
       " '3. \\t\\twow, what a rude cunt ',\n",
       " '1. you sound like a faggot ',\n",
       " '1. Hi developers, give us a follow for updates and help with Gab’s API. 👋',\n",
       " '2. \\tSTOP THE RACISISM ON HERE, IT IS DESPICIBLE.',\n",
       " \"3. \\t\\tLOL you can't even spell it nigger\",\n",
       " '1. Well, you are the fuckers that lit the match - #FakePatriots',\n",
       " '2. \\tLOCK THAT RACIST NIGGER UP!!!   WHAT KIDS YOU BEEN FUCKING?  MAN THEY ARE ALL INGRATES, LOWEST FORMS OF LIFE ON  THE PLANET>  WORTHY OF DEATH, RUN MOTHER FUCKERS< RUN< WE ARE CMOING AND WE WILL BRING THE PEOPLES WRATH DOWN ONTO YOUR SICK HEADS!',\n",
       " '1. SELF-HATING WHITE CUCKS ON PARADE',\n",
       " '2. \\tDoes the blind guy even know what the sign says?',\n",
       " \"3. \\t\\tHey retard and cross dresser! I'lll say nigger all I want, and a nigger still has to get a job an earn money like my white privileged honky ass! Kill your self!\"]"
      ]
     },
     "execution_count": 26,
     "metadata": {},
     "output_type": "execute_result"
    }
   ],
   "source": [
    "text_list[:20]"
   ]
  },
  {
   "cell_type": "code",
   "execution_count": 27,
   "metadata": {},
   "outputs": [
    {
     "name": "stdout",
     "output_type": "stream",
     "text": [
      "Counter({0: 19162, 1: 14614})\n"
     ]
    }
   ],
   "source": [
    "import collections\n",
    "#a = [1,1,1,1,2,2,2,2,3,3,4,5,5]\n",
    "counter=collections.Counter(class_list)\n",
    "print(counter)"
   ]
  },
  {
   "cell_type": "code",
   "execution_count": 28,
   "metadata": {},
   "outputs": [],
   "source": [
    "df = pd.DataFrame(\n",
    "    {'text': text_list,\n",
    "     'class': class_list\n",
    "    })"
   ]
  },
  {
   "cell_type": "code",
   "execution_count": 29,
   "metadata": {},
   "outputs": [],
   "source": [
    "df['text'] = df['text'].map(lambda x: clean_text(x))"
   ]
  },
  {
   "cell_type": "code",
   "execution_count": 30,
   "metadata": {},
   "outputs": [
    {
     "data": {
      "text/html": [
       "<div>\n",
       "<style scoped>\n",
       "    .dataframe tbody tr th:only-of-type {\n",
       "        vertical-align: middle;\n",
       "    }\n",
       "\n",
       "    .dataframe tbody tr th {\n",
       "        vertical-align: top;\n",
       "    }\n",
       "\n",
       "    .dataframe thead th {\n",
       "        text-align: right;\n",
       "    }\n",
       "</style>\n",
       "<table border=\"1\" class=\"dataframe\">\n",
       "  <thead>\n",
       "    <tr style=\"text-align: right;\">\n",
       "      <th></th>\n",
       "      <th>class</th>\n",
       "      <th>text</th>\n",
       "    </tr>\n",
       "  </thead>\n",
       "  <tbody>\n",
       "    <tr>\n",
       "      <th>0</th>\n",
       "      <td>1</td>\n",
       "      <td>joined gab remind retarded jew haters are typi...</td>\n",
       "    </tr>\n",
       "    <tr>\n",
       "      <th>1</th>\n",
       "      <td>0</td>\n",
       "      <td>left really scared of https : redd it 9rfkts</td>\n",
       "    </tr>\n",
       "    <tr>\n",
       "      <th>2</th>\n",
       "      <td>0</td>\n",
       "      <td>that literally looks like monkey supposed pre...</td>\n",
       "    </tr>\n",
       "    <tr>\n",
       "      <th>3</th>\n",
       "      <td>1</td>\n",
       "      <td>dumb cunt</td>\n",
       "    </tr>\n",
       "    <tr>\n",
       "      <th>4</th>\n",
       "      <td>0</td>\n",
       "      <td>makes asshole</td>\n",
       "    </tr>\n",
       "  </tbody>\n",
       "</table>\n",
       "</div>"
      ],
      "text/plain": [
       "   class                                               text\n",
       "0      1  joined gab remind retarded jew haters are typi...\n",
       "1      0       left really scared of https : redd it 9rfkts\n",
       "2      0   that literally looks like monkey supposed pre...\n",
       "3      1                                          dumb cunt\n",
       "4      0                                     makes asshole "
      ]
     },
     "execution_count": 30,
     "metadata": {},
     "output_type": "execute_result"
    }
   ],
   "source": [
    "df.head(5)"
   ]
  },
  {
   "cell_type": "code",
   "execution_count": 31,
   "metadata": {},
   "outputs": [],
   "source": [
    "df.to_csv('Parsed Datasets/GAB.csv')"
   ]
  },
  {
   "cell_type": "code",
   "execution_count": 32,
   "metadata": {},
   "outputs": [],
   "source": [
    "data_1 = pd.read_csv(\"Original Datasets/A-Benchmark-Dataset-for-Learning-to-Intervene-in-Online-Hate-Speech-master/data/reddit.csv\")"
   ]
  },
  {
   "cell_type": "code",
   "execution_count": 33,
   "metadata": {},
   "outputs": [
    {
     "data": {
      "text/html": [
       "<div>\n",
       "<style scoped>\n",
       "    .dataframe tbody tr th:only-of-type {\n",
       "        vertical-align: middle;\n",
       "    }\n",
       "\n",
       "    .dataframe tbody tr th {\n",
       "        vertical-align: top;\n",
       "    }\n",
       "\n",
       "    .dataframe thead th {\n",
       "        text-align: right;\n",
       "    }\n",
       "</style>\n",
       "<table border=\"1\" class=\"dataframe\">\n",
       "  <thead>\n",
       "    <tr style=\"text-align: right;\">\n",
       "      <th></th>\n",
       "      <th>id</th>\n",
       "      <th>text</th>\n",
       "      <th>hate_speech_idx</th>\n",
       "      <th>response</th>\n",
       "    </tr>\n",
       "  </thead>\n",
       "  <tbody>\n",
       "    <tr>\n",
       "      <th>0</th>\n",
       "      <td>1. e8q18lf\\n2. \\te8q9w5s\\n3. \\t\\te8qbobk\\n4. \\...</td>\n",
       "      <td>1. A subsection of retarded Hungarians? Ohh bo...</td>\n",
       "      <td>[1]</td>\n",
       "      <td>[\"I don't see a reason why it's okay to insult...</td>\n",
       "    </tr>\n",
       "    <tr>\n",
       "      <th>1</th>\n",
       "      <td>1. e9c6naz\\n2. \\te9d03a5\\n3. \\t\\te9d8e4d\\n</td>\n",
       "      <td>1. &gt; \"y'all hear sumn?\"  by all means I live i...</td>\n",
       "      <td>[3]</td>\n",
       "      <td>['Persons with disabilities is the accepted te...</td>\n",
       "    </tr>\n",
       "    <tr>\n",
       "      <th>2</th>\n",
       "      <td>1. e84rl2i\\n2. \\te84w60l\\n3. \\t\\te8544rn\\n4. \\...</td>\n",
       "      <td>1. wouldn't the defenders or whatever they are...</td>\n",
       "      <td>NaN</td>\n",
       "      <td>NaN</td>\n",
       "    </tr>\n",
       "    <tr>\n",
       "      <th>3</th>\n",
       "      <td>1. e7kq72n\\n2. \\te7m24ar\\n</td>\n",
       "      <td>1. Because the Japanese aren't retarded and kn...</td>\n",
       "      <td>[1]</td>\n",
       "      <td>[\"It's not right for anyone of any gender to b...</td>\n",
       "    </tr>\n",
       "    <tr>\n",
       "      <th>4</th>\n",
       "      <td>1. e7hdgoh\\n2. \\te7iyj6a\\n3. \\t\\te7j6iho\\n4. \\...</td>\n",
       "      <td>1. That might be true if we didn't have an exa...</td>\n",
       "      <td>[2, 3]</td>\n",
       "      <td>[\"You shouldn't be bringing up sensitive topic...</td>\n",
       "    </tr>\n",
       "  </tbody>\n",
       "</table>\n",
       "</div>"
      ],
      "text/plain": [
       "                                                  id  \\\n",
       "0  1. e8q18lf\\n2. \\te8q9w5s\\n3. \\t\\te8qbobk\\n4. \\...   \n",
       "1         1. e9c6naz\\n2. \\te9d03a5\\n3. \\t\\te9d8e4d\\n   \n",
       "2  1. e84rl2i\\n2. \\te84w60l\\n3. \\t\\te8544rn\\n4. \\...   \n",
       "3                         1. e7kq72n\\n2. \\te7m24ar\\n   \n",
       "4  1. e7hdgoh\\n2. \\te7iyj6a\\n3. \\t\\te7j6iho\\n4. \\...   \n",
       "\n",
       "                                                text hate_speech_idx  \\\n",
       "0  1. A subsection of retarded Hungarians? Ohh bo...             [1]   \n",
       "1  1. > \"y'all hear sumn?\"  by all means I live i...             [3]   \n",
       "2  1. wouldn't the defenders or whatever they are...             NaN   \n",
       "3  1. Because the Japanese aren't retarded and kn...             [1]   \n",
       "4  1. That might be true if we didn't have an exa...          [2, 3]   \n",
       "\n",
       "                                            response  \n",
       "0  [\"I don't see a reason why it's okay to insult...  \n",
       "1  ['Persons with disabilities is the accepted te...  \n",
       "2                                                NaN  \n",
       "3  [\"It's not right for anyone of any gender to b...  \n",
       "4  [\"You shouldn't be bringing up sensitive topic...  "
      ]
     },
     "execution_count": 33,
     "metadata": {},
     "output_type": "execute_result"
    }
   ],
   "source": [
    "data_1.head(5)"
   ]
  },
  {
   "cell_type": "code",
   "execution_count": 34,
   "metadata": {},
   "outputs": [],
   "source": [
    "text_list =[]\n",
    "class_list =[]\n",
    "t = data_1['text'].values\n",
    "h = data_1['hate_speech_idx'].values"
   ]
  },
  {
   "cell_type": "code",
   "execution_count": 35,
   "metadata": {},
   "outputs": [],
   "source": [
    "for i in range(len(t)):\n",
    "    temp=t[i]\n",
    "    temp=temp.split('\\n')\n",
    "    temp = temp[:-1]\n",
    "    try:\n",
    "        x = ast.literal_eval(h[i])\n",
    "    except:\n",
    "        x = []\n",
    "    for j in range(len(temp)):\n",
    "        if (j+1) in x:\n",
    "            text_list.append(temp[j])\n",
    "            class_list.append(1)\n",
    "        else:\n",
    "            text_list.append(temp[j])\n",
    "            class_list.append(0)"
   ]
  },
  {
   "cell_type": "code",
   "execution_count": 36,
   "metadata": {},
   "outputs": [
    {
     "data": {
      "text/plain": [
       "22324"
      ]
     },
     "execution_count": 36,
     "metadata": {},
     "output_type": "execute_result"
    }
   ],
   "source": [
    "len(text_list)"
   ]
  },
  {
   "cell_type": "code",
   "execution_count": 37,
   "metadata": {},
   "outputs": [
    {
     "data": {
      "text/plain": [
       "22324"
      ]
     },
     "execution_count": 37,
     "metadata": {},
     "output_type": "execute_result"
    }
   ],
   "source": [
    "len(class_list)"
   ]
  },
  {
   "cell_type": "code",
   "execution_count": 38,
   "metadata": {},
   "outputs": [
    {
     "data": {
      "text/plain": [
       "['1. A subsection of retarded Hungarians? Ohh boy. brace for a livid Bulbasaur coming in here trying to hate a hole in some of her stupider countrymen.',\n",
       " '2. \\tHiii. Just got off work. 444 is mainly the typa guys you imagine writing for US stupid sites, but basically they just try to fit in with the Western European and US big city hipsters.   Rich kids from Budapest who feel they are brave journalistic heroes.  ',\n",
       " '3. \\t\\twow i guess soyboys are the same in every country',\n",
       " \"4. \\t\\t\\tOwen Benjamin's soyboy song goes for every country and that's why it's so amazing. \",\n",
       " '1. > \"y\\'all hear sumn?\"  by all means I live in a small town rn (for work). 5k people here, originally a mining community. No one is protesting here. Nobody mentioned the protest today. Nobody here cares, they\\'re busy loving their family and working hard.  Thank god for the electoral college. Liberals think we don\\'t matter. ',\n",
       " '2. \\t[removed]',\n",
       " '3. \\t\\tah a liberal has slipped in. you can tell because the first question asked was loaded and retarded.  >  What does \"working hard\" mean? Your political views get more validated by how much manual labour you put in?   where did I say that? and yes, of course you have no clue what \"working hard\" means. Few soyboys do.  > Based on your comment regarding the EC I guess you don\\'t really think that 2 mil majority of people who voted for Hillary don\\'t really matter.  I shouldn\\'t have to explain to you the point of the EC. If you want to talk to someone who is more patient with you than I am, you can check out AskThe_Donald. ',\n",
       " \"1. wouldn't the defenders or whatever they are as a group be the most diverse group ? Since you know it has a blind dude ,  orphan , black man , woman  and all of their supporting cast ?   &#x200B;  I also believe all the Marvel stuff is going to get canceled on Netflix because next year Disney is launching their own streaming platform and will want as many characters as it can get for shows on that\",\n",
       " \"2. \\t'inclusive' = not white\",\n",
       " '3. \\t\\t“Harvard is working to be more inclusive.”  “Oh, so they’re accepting more students next year?”  “No, I meant they’re literally being racist against Asians.”  👌',\n",
       " '4. \\t\\t\\t \"Oh yeah and that lawsuit?  Going to benefit whites in the long run.  Unacceptable in our view.\"',\n",
       " '5. \\t\\t\\t\\t- ***A***nti-***C***aucasian ***L***itigation ***U***nion.',\n",
       " \"6. \\t\\t\\t\\t\\tACLU: We Don't Hate Religion, Just Christianity\",\n",
       " \"7. \\t\\t\\t\\t\\t\\tI've never understood that sentiment. As an atheist bordering on an ti-theist, I dislike all theistic religions equally. The only religion that gets a pass in my book is Buddhism because it's not got a long death list yet.\",\n",
       " '8. \\t\\t\\t\\t\\t\\t\\tWhy the hell would you dislike Christianity and Islam equally? As an atheist, you can live an openly anti-Christian life *right here in a still-largely Christian nation* thanks entirely to the tolerance and peacefulness of Christians. You would be widely and aggressively oppressed in virtually any Muslim majority country.',\n",
       " '9. \\t\\t\\t\\t\\t\\t\\t\\tChristians are tolerant and paceful now, after a couple of centiuries of revolutions that started with the French, and the influence of marxism and all of its \"children\", but you don\\'t need to go very far to see examples of all the things muslim are doing now. The only difference is that they (still?) havent had all those social changes inside their communities for a lot of reasons (and when they have them, usually the regime ends crushed by european or american influence).   But being anti reilligious doesn\\'t mean that you have a list of religions and the points of likability you have with each one. You simply don\\'t approve any of them.',\n",
       " '10. \\t\\t\\t\\t\\t\\t\\t\\t\\tAnd apparently you don’t *study* any of them either. Because if you had, you’d know that your much-anticipated modern reformation of Islam will never actually happen.  But I’m wasting my time. Because you think Marxism was a positive influence on the Christian West, which is retarded. Last I checked, atheists still need food lol',\n",
       " \"11. \\t\\t\\t\\t\\t\\t\\t\\t\\t\\tGood answer. I'll print it and pin it in my wall of top unconstructive fallacies of the internet.\",\n",
       " \"1. Because the Japanese aren't retarded and know that *fictional characters* aren't owed anything, much less dignity.\",\n",
       " \"2. \\tJapan doesn't shy* away from a lot of things. Male characters smack around women for the humor of it too. And something like Seven Deadly Sins has the main character frequently groping women, stealing her panties [while she's wearing them], etc.\"]"
      ]
     },
     "execution_count": 38,
     "metadata": {},
     "output_type": "execute_result"
    }
   ],
   "source": [
    "text_list[:20]"
   ]
  },
  {
   "cell_type": "code",
   "execution_count": 39,
   "metadata": {},
   "outputs": [
    {
     "data": {
      "text/plain": [
       "[1, 0, 0, 0, 0, 0, 1, 0, 0, 0, 0, 0, 0, 0, 0, 0, 0, 0, 1, 0]"
      ]
     },
     "execution_count": 39,
     "metadata": {},
     "output_type": "execute_result"
    }
   ],
   "source": [
    "class_list[:20]"
   ]
  },
  {
   "cell_type": "code",
   "execution_count": 40,
   "metadata": {},
   "outputs": [
    {
     "name": "stdout",
     "output_type": "stream",
     "text": [
      "Counter({0: 17067, 1: 5257})\n"
     ]
    }
   ],
   "source": [
    "import collections\n",
    "#a = [1,1,1,1,2,2,2,2,3,3,4,5,5]\n",
    "counter=collections.Counter(class_list)\n",
    "print(counter)"
   ]
  },
  {
   "cell_type": "code",
   "execution_count": 41,
   "metadata": {},
   "outputs": [],
   "source": [
    "df_1 = pd.DataFrame(\n",
    "    {'text': text_list,\n",
    "     'class': class_list\n",
    "    })"
   ]
  },
  {
   "cell_type": "code",
   "execution_count": 42,
   "metadata": {},
   "outputs": [],
   "source": [
    "df_1['text'] = df_1['text'].map(lambda x: clean_text(x))"
   ]
  },
  {
   "cell_type": "code",
   "execution_count": 43,
   "metadata": {},
   "outputs": [],
   "source": [
    "df_1.to_csv('Parsed Datasets/Reddit.csv')"
   ]
  },
  {
   "cell_type": "code",
   "execution_count": 44,
   "metadata": {},
   "outputs": [
    {
     "data": {
      "text/html": [
       "<div>\n",
       "<style scoped>\n",
       "    .dataframe tbody tr th:only-of-type {\n",
       "        vertical-align: middle;\n",
       "    }\n",
       "\n",
       "    .dataframe tbody tr th {\n",
       "        vertical-align: top;\n",
       "    }\n",
       "\n",
       "    .dataframe thead th {\n",
       "        text-align: right;\n",
       "    }\n",
       "</style>\n",
       "<table border=\"1\" class=\"dataframe\">\n",
       "  <thead>\n",
       "    <tr style=\"text-align: right;\">\n",
       "      <th></th>\n",
       "      <th>class</th>\n",
       "      <th>text</th>\n",
       "    </tr>\n",
       "  </thead>\n",
       "  <tbody>\n",
       "    <tr>\n",
       "      <th>0</th>\n",
       "      <td>1</td>\n",
       "      <td>subsection retarded hungarians ohh boy brace l...</td>\n",
       "    </tr>\n",
       "    <tr>\n",
       "      <th>1</th>\n",
       "      <td>0</td>\n",
       "      <td>hiii got work 444 mainly typa guys imagine wr...</td>\n",
       "    </tr>\n",
       "    <tr>\n",
       "      <th>2</th>\n",
       "      <td>0</td>\n",
       "      <td>wow guess soyboys every country</td>\n",
       "    </tr>\n",
       "    <tr>\n",
       "      <th>3</th>\n",
       "      <td>0</td>\n",
       "      <td>owen benjamin soyboy song goes every country ...</td>\n",
       "    </tr>\n",
       "    <tr>\n",
       "      <th>4</th>\n",
       "      <td>0</td>\n",
       "      <td>y all hear sumn means live small town for wor...</td>\n",
       "    </tr>\n",
       "  </tbody>\n",
       "</table>\n",
       "</div>"
      ],
      "text/plain": [
       "   class                                               text\n",
       "0      1  subsection retarded hungarians ohh boy brace l...\n",
       "1      0   hiii got work 444 mainly typa guys imagine wr...\n",
       "2      0                    wow guess soyboys every country\n",
       "3      0   owen benjamin soyboy song goes every country ...\n",
       "4      0   y all hear sumn means live small town for wor..."
      ]
     },
     "execution_count": 44,
     "metadata": {},
     "output_type": "execute_result"
    }
   ],
   "source": [
    "df_1.head(5)"
   ]
  },
  {
   "cell_type": "code",
   "execution_count": null,
   "metadata": {},
   "outputs": [],
   "source": []
  }
 ],
 "metadata": {
  "kernelspec": {
   "display_name": "Python 3",
   "language": "python",
   "name": "python3"
  },
  "language_info": {
   "codemirror_mode": {
    "name": "ipython",
    "version": 3
   },
   "file_extension": ".py",
   "mimetype": "text/x-python",
   "name": "python",
   "nbconvert_exporter": "python",
   "pygments_lexer": "ipython3",
   "version": "3.5.2"
  }
 },
 "nbformat": 4,
 "nbformat_minor": 2
}
