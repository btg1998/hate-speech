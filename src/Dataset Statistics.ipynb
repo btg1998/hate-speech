{
 "cells": [
  {
   "cell_type": "code",
   "execution_count": 1,
   "metadata": {},
   "outputs": [],
   "source": [
    "import pandas as pd\n",
    "import numpy as np\n",
    "import pickle\n",
    "import sys\n",
    "import collections"
   ]
  },
  {
   "cell_type": "code",
   "execution_count": 2,
   "metadata": {},
   "outputs": [
    {
     "name": "stdout",
     "output_type": "stream",
     "text": [
      "Counter({1: 20620, 0: 4163})\n"
     ]
    }
   ],
   "source": [
    "df = pd.read_csv(\"../Proper Experiments/Parsed Datasets/Davidson.csv\")\n",
    "df.text=df.text.astype(str)\n",
    "df.head(5)\n",
    "#X_o = data[:]\n",
    "y_o = df['class'].astype(int)\n",
    "y_o = np.array(y_o)\n",
    "counter=collections.Counter(y_o)\n",
    "print(counter)"
   ]
  },
  {
   "cell_type": "code",
   "execution_count": 3,
   "metadata": {},
   "outputs": [
    {
     "name": "stdout",
     "output_type": "stream",
     "text": [
      "Counter({0: 23353, 1: 1430})\n"
     ]
    }
   ],
   "source": [
    "df = pd.read_csv(\"../Proper Experiments/Parsed Datasets/Davidson_1.csv\")\n",
    "df.text=df.text.astype(str)\n",
    "df.head(5)\n",
    "#X_o = data[:]\n",
    "y_o = df['class'].astype(int)\n",
    "y_o = np.array(y_o)\n",
    "counter=collections.Counter(y_o)\n",
    "print(counter)"
   ]
  },
  {
   "cell_type": "code",
   "execution_count": 4,
   "metadata": {},
   "outputs": [
    {
     "name": "stdout",
     "output_type": "stream",
     "text": [
      "Counter({0: 10857, 1: 4932})\n"
     ]
    }
   ],
   "source": [
    "df = pd.read_csv(\"../Proper Experiments/Parsed Datasets/Waseem_Hovy.csv\")\n",
    "df.text=df.text.astype(str)\n",
    "df.head(5)\n",
    "#X_o = data[:]\n",
    "y_o = df['class'].astype(int)\n",
    "y_o = np.array(y_o)\n",
    "counter=collections.Counter(y_o)\n",
    "print(counter)"
   ]
  },
  {
   "cell_type": "code",
   "execution_count": 5,
   "metadata": {},
   "outputs": [
    {
     "name": "stdout",
     "output_type": "stream",
     "text": [
      "Counter({0: 8840, 1: 4400})\n"
     ]
    }
   ],
   "source": [
    "df = pd.read_csv(\"../Proper Experiments/Parsed Datasets/OffensEval_2019.csv\")\n",
    "df.text=df.text.astype(str)\n",
    "df.head(5)\n",
    "#X_o = data[:]\n",
    "y_o = df['class'].astype(int)\n",
    "y_o = np.array(y_o)\n",
    "counter=collections.Counter(y_o)\n",
    "print(counter)"
   ]
  },
  {
   "cell_type": "code",
   "execution_count": 8,
   "metadata": {},
   "outputs": [
    {
     "name": "stdout",
     "output_type": "stream",
     "text": [
      "Counter({0: 7435, 1: 1556})\n"
     ]
    }
   ],
   "source": [
    "df = pd.read_csv(\"../Proper Experiments/Parsed Datasets/hatEval_2019.csv\")\n",
    "df.text=df.text.astype(str)\n",
    "df.head(5)\n",
    "#X_o = data[:]\n",
    "y_o = df['class'].astype(int)\n",
    "y_o = np.array(y_o)\n",
    "counter=collections.Counter(y_o)\n",
    "print(counter)"
   ]
  },
  {
   "cell_type": "code",
   "execution_count": 7,
   "metadata": {},
   "outputs": [
    {
     "name": "stdout",
     "output_type": "stream",
     "text": [
      "Counter({0: 9507, 1: 1196})\n"
     ]
    }
   ],
   "source": [
    "df = pd.read_csv(\"../Proper Experiments/Parsed Datasets/StormfrontWS.csv\")\n",
    "df.text=df.text.astype(str)\n",
    "df.head(5)\n",
    "#X_o = data[:]\n",
    "y_o = df['class'].astype(int)\n",
    "y_o = np.array(y_o)\n",
    "counter=collections.Counter(y_o)\n",
    "print(counter)"
   ]
  },
  {
   "cell_type": "code",
   "execution_count": 2,
   "metadata": {},
   "outputs": [
    {
     "name": "stdout",
     "output_type": "stream",
     "text": [
      "Counter({0: 102274, 1: 13590})\n"
     ]
    }
   ],
   "source": [
    "df = pd.read_csv(\"../Proper Experiments/Parsed Datasets/Wikipedia_Detox.csv\")\n",
    "df.text=df.text.astype(str)\n",
    "df.head(5)\n",
    "#X_o = data[:]\n",
    "y_o = df['class'].astype(int)\n",
    "y_o = np.array(y_o)\n",
    "counter=collections.Counter(y_o)\n",
    "print(counter)"
   ]
  },
  {
   "cell_type": "code",
   "execution_count": null,
   "metadata": {},
   "outputs": [],
   "source": []
  }
 ],
 "metadata": {
  "kernelspec": {
   "display_name": "Python 3",
   "language": "python",
   "name": "python3"
  },
  "language_info": {
   "codemirror_mode": {
    "name": "ipython",
    "version": 3
   },
   "file_extension": ".py",
   "mimetype": "text/x-python",
   "name": "python",
   "nbconvert_exporter": "python",
   "pygments_lexer": "ipython3",
   "version": "3.5.2"
  }
 },
 "nbformat": 4,
 "nbformat_minor": 2
}
